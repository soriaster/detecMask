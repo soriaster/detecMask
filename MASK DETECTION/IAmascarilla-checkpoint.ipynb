{
 "cells": [
  {
   "cell_type": "code",
   "execution_count": 1,
   "metadata": {},
   "outputs": [],
   "source": [
    "import cv2\n",
    "import os\n",
    "import time"
   ]
  },
  {
   "cell_type": "code",
   "execution_count": 2,
   "metadata": {},
   "outputs": [],
   "source": [
    "import tensorflow"
   ]
  },
  {
   "cell_type": "code",
   "execution_count": 3,
   "metadata": {},
   "outputs": [],
   "source": [
    "from tensorflow.keras.preprocessing.image import img_to_array\n",
    "from tensorflow.keras.models import load_model"
   ]
  },
  {
   "cell_type": "code",
   "execution_count": 4,
   "metadata": {},
   "outputs": [],
   "source": [
    "from PIL import Image, ImageOps\n",
    "import numpy as np"
   ]
  },
  {
   "cell_type": "code",
   "execution_count": 7,
   "metadata": {},
   "outputs": [],
   "source": [
    "import onnx\n",
    "import keras2onnx"
   ]
  },
  {
   "cell_type": "code",
   "execution_count": 5,
   "metadata": {},
   "outputs": [],
   "source": [
    "#Identifico la ruta donde se almacena el modelo entrenado\n",
    "model_path =\"C:/Users/AndrésPaul/Documents/FLYBACK AUTOMATIZACION/MASK DETECTION/keras_model.h5\""
   ]
  },
  {
   "cell_type": "code",
   "execution_count": 6,
   "metadata": {},
   "outputs": [],
   "source": [
    "#cargo el modelo\n",
    "seg_model = load_model(model_path, compile = False)"
   ]
  },
  {
   "cell_type": "code",
   "execution_count": 11,
   "metadata": {},
   "outputs": [],
   "source": [
    "onnx_model_name = 'C:/Users/AndrésPaul/Documents/FLYBACK AUTOMATIZACION/MASK DETECTION/keras_model.onnx'"
   ]
  },
  {
   "cell_type": "code",
   "execution_count": 9,
   "metadata": {},
   "outputs": [
    {
     "name": "stderr",
     "output_type": "stream",
     "text": [
      "tf executing eager_mode: True\n",
      "tf.keras model eager_mode: False\n",
      "The ONNX operator number change on the optimization: 442 -> 107\n"
     ]
    }
   ],
   "source": [
    "onnx_model = keras2onnx.convert_keras(seg_model, seg_model.name)"
   ]
  },
  {
   "cell_type": "code",
   "execution_count": 12,
   "metadata": {},
   "outputs": [],
   "source": [
    "onnx.save_model(onnx_model, onnx_model_name)"
   ]
  },
  {
   "cell_type": "code",
   "execution_count": null,
   "metadata": {},
   "outputs": [],
   "source": [
    "C:\\Users\\AndrésPaul\\keras_model.onnx"
   ]
  },
  {
   "cell_type": "code",
   "execution_count": 3,
   "metadata": {},
   "outputs": [
    {
     "data": {
      "text/plain": [
       "'C:\\\\anaconda\\\\Lib\\\\site-packages\\\\cv2\\\\haarcascades\\\\haarcascade_frontalface_default.xml'"
      ]
     },
     "execution_count": 3,
     "metadata": {},
     "output_type": "execute_result"
    }
   ],
   "source": [
    "#ccfc_path = \"C:\\\\anaconda\\\\Lib\\\\site-packages\\\\cv2\\\\haarcascades\\\\haarcascade_frontalface_default.xml\"\n",
    "#os.path.abspath(ccfc_path)"
   ]
  },
  {
   "cell_type": "code",
   "execution_count": 4,
   "metadata": {},
   "outputs": [
    {
     "data": {
      "text/plain": [
       "'C:\\\\anaconda\\\\Lib\\\\site-packages\\\\cv2\\\\haarcascades\\\\haarcascade_eye.xml'"
      ]
     },
     "execution_count": 4,
     "metadata": {},
     "output_type": "execute_result"
    }
   ],
   "source": [
    "#ccec_path = \"C:\\\\anaconda\\\\Lib\\\\site-packages\\\\cv2\\\\haarcascades\\\\haarcascade_eye.xml\"\n",
    "#os.path.abspath(ccec_path)"
   ]
  },
  {
   "cell_type": "code",
   "execution_count": 7,
   "metadata": {},
   "outputs": [],
   "source": [
    "#Se crea carpeta donde se almacenara la imagen tomada del video\n",
    "#Si la carpeta no existe se crea\n",
    "if not os.path.exists('mascarillas'):\n",
    "    print('carpeta creada')\n",
    "    os.mkdir('mascarillas')"
   ]
  },
  {
   "cell_type": "code",
   "execution_count": 14,
   "metadata": {},
   "outputs": [],
   "source": [
    "#face_cascade = cv2.CascadeClassifier(os.path.abspath(ccfc_path)) #ruta de preentrenada de rostros\n",
    "#if face_cascade.empty(): raise Exception(\"¿Está seguro que es la ruta correcta?\")"
   ]
  },
  {
   "cell_type": "code",
   "execution_count": 8,
   "metadata": {},
   "outputs": [],
   "source": [
    "#Se crea funcion donde se ingresa por parametro la imagen tomada del video\n",
    "def IAmascarilla(imagen = 'mascarillas/rostro_{}.jpg'):\n",
    "    \n",
    "    #Se crea un arreglo donde se almacenara el contenido de la imagen\n",
    "    data = np.ndarray(shape=(1, 224, 224, 3), dtype=np.float32)\n",
    "\n",
    "    image = Image.open(\"mascarillas/rostro_0.jpg\")\n",
    "\n",
    "    #redimensiona la imagen y la vuelve a ensamblar\n",
    "    #ImageOps.fit devuelve una versión dimensionada y recortada de la imagen, \n",
    "    #recortada a la relación de aspecto y tamaño solicitados.\n",
    "    #Image.ANTIALIAS es el metodo de remuestreo a utilizar\n",
    "    size = (224, 224)\n",
    "    image = ImageOps.fit(image, size, Image.ANTIALIAS)\n",
    "\n",
    "    #convierte la imagen en arreglo\n",
    "    image_array = np.asarray(image)\n",
    "\n",
    "    #Se normaliza la imagen y sacamos el promedio de la imagen y la ponemos entre 0 y 1\n",
    "    normalized_image_array = (image_array.astype(np.float32) / 127.0) - 1\n",
    "\n",
    "    # Se carga la imagen normalizada\n",
    "    data[0] = normalized_image_array\n",
    "\n",
    "    #Se realiza la prdiccion del clasificador\n",
    "    prediction = seg_model.predict(data)\n",
    "    if prediction[0][1] > 0.8:\n",
    "        print('Sin mascarilla')\n",
    "    else:\n",
    "        print('Usa mascarilla')"
   ]
  },
  {
   "cell_type": "code",
   "execution_count": 9,
   "metadata": {},
   "outputs": [
    {
     "name": "stdout",
     "output_type": "stream",
     "text": [
      "Sin mascarilla\n",
      "Usa mascarilla\n",
      "Usa mascarilla\n",
      "Usa mascarilla\n",
      "Usa mascarilla\n",
      "Usa mascarilla\n",
      "Usa mascarilla\n",
      "Usa mascarilla\n",
      "Usa mascarilla\n",
      "Usa mascarilla\n",
      "Usa mascarilla\n",
      "Usa mascarilla\n",
      "Usa mascarilla\n",
      "Usa mascarilla\n",
      "Usa mascarilla\n",
      "Usa mascarilla\n",
      "Usa mascarilla\n",
      "Usa mascarilla\n",
      "Usa mascarilla\n",
      "Usa mascarilla\n",
      "Usa mascarilla\n",
      "Usa mascarilla\n",
      "Usa mascarilla\n",
      "Usa mascarilla\n",
      "Usa mascarilla\n",
      "Usa mascarilla\n",
      "Usa mascarilla\n",
      "Usa mascarilla\n",
      "Usa mascarilla\n",
      "Usa mascarilla\n",
      "Usa mascarilla\n",
      "Usa mascarilla\n",
      "Usa mascarilla\n",
      "Usa mascarilla\n",
      "Usa mascarilla\n",
      "Usa mascarilla\n",
      "Usa mascarilla\n",
      "Usa mascarilla\n",
      "Usa mascarilla\n",
      "Usa mascarilla\n",
      "Usa mascarilla\n",
      "Usa mascarilla\n",
      "Usa mascarilla\n",
      "Usa mascarilla\n",
      "Usa mascarilla\n",
      "Usa mascarilla\n",
      "Usa mascarilla\n",
      "Usa mascarilla\n",
      "Usa mascarilla\n",
      "Usa mascarilla\n",
      "Usa mascarilla\n",
      "Usa mascarilla\n",
      "Usa mascarilla\n",
      "Usa mascarilla\n",
      "Usa mascarilla\n",
      "Usa mascarilla\n",
      "Usa mascarilla\n",
      "Usa mascarilla\n",
      "Sin mascarilla\n",
      "Sin mascarilla\n",
      "Sin mascarilla\n",
      "Usa mascarilla\n",
      "Usa mascarilla\n",
      "Usa mascarilla\n",
      "Usa mascarilla\n",
      "Usa mascarilla\n",
      "Usa mascarilla\n",
      "Usa mascarilla\n",
      "Usa mascarilla\n",
      "Usa mascarilla\n",
      "Usa mascarilla\n",
      "Usa mascarilla\n",
      "Usa mascarilla\n",
      "Usa mascarilla\n",
      "Usa mascarilla\n",
      "Usa mascarilla\n",
      "Usa mascarilla\n",
      "Usa mascarilla\n",
      "Usa mascarilla\n",
      "Usa mascarilla\n",
      "Usa mascarilla\n",
      "Usa mascarilla\n",
      "Usa mascarilla\n",
      "Usa mascarilla\n",
      "Usa mascarilla\n",
      "Usa mascarilla\n",
      "Usa mascarilla\n",
      "Usa mascarilla\n",
      "Usa mascarilla\n",
      "Usa mascarilla\n",
      "Usa mascarilla\n",
      "Usa mascarilla\n",
      "Sin mascarilla\n",
      "Sin mascarilla\n",
      "Sin mascarilla\n",
      "Sin mascarilla\n",
      "Sin mascarilla\n",
      "Sin mascarilla\n",
      "Sin mascarilla\n",
      "Sin mascarilla\n",
      "Sin mascarilla\n",
      "Sin mascarilla\n",
      "Sin mascarilla\n"
     ]
    }
   ],
   "source": [
    "video = cv2.VideoCapture(0) #autorizo utilizar la camara en modeo video\n",
    "while video.isOpened(): #El lazo itera mientras la camara este grabando\n",
    "    ret, frame = video.read() #Se lee la imagen ingresada por video\n",
    "    frame = cv2.flip(frame, 1) #se crea un espejo de la imagen\n",
    "    \n",
    "    if frame is not None: #se ingresa a la condicion siempre y cuando exista conectividad con la camara\n",
    "        #gray = cv2.cvtColor(frame, cv2.COLOR_BGR2GRAY)\n",
    "        #auxframe = frame.copy()\n",
    "        #faces = face_cascade.detectMultiScale(gray, 1.3, 5)\n",
    "        #for (x, y, w, h) in faces: #se detecta las coordenaas x,y< ancho y alto de la cara\n",
    "        #    cv2.rectangle(frame, (x, y), (x + w, y + h), (255, 0, 0), 2)\n",
    "        #    roi_gray = gray[y:y + h, x:x + w]\n",
    "        #    roi_color = frame[y:y + h, x:x + w]\n",
    "        #    rost = auxframe[y:y+h, x:x+w]\n",
    "            #rost = cv2.resize(rost, (450, 450), interpolation = cv2.INTER_CUBIC)\n",
    "        #temporizo  la toma de imagen de video\n",
    "        time.sleep(0.05)\n",
    "        cv2.imwrite('mascarillas/rostro_{}.jpg'.format(0), frame) #Se captura cada 50ms una foto de la imagen de video y la almaceno\n",
    "        IAmascarilla() #utilizo la funcion de prediccion de modelo de clasificacion\n",
    "                \n",
    "        cv2.imshow('Video', frame) #muestro en pantalla lo captado por la camara de video en tiempo real\n",
    "    if cv2.waitKey(1) & 0xFF == ord('q'): #presion q para cerrar la pantalla y el programa se detiene\n",
    "        break\n",
    "video.release()\n",
    "cv2.destroyAllWindows()"
   ]
  },
  {
   "cell_type": "code",
   "execution_count": null,
   "metadata": {},
   "outputs": [
    {
     "name": "stdout",
     "output_type": "stream",
     "text": [
      "\n",
      "Welcome to Python 3.6's help utility!\n",
      "\n",
      "If this is your first time using Python, you should definitely check out\n",
      "the tutorial on the Internet at https://docs.python.org/3.6/tutorial/.\n",
      "\n",
      "Enter the name of any module, keyword, or topic to get help on writing\n",
      "Python programs and using Python modules.  To quit this help utility and\n",
      "return to the interpreter, just type \"quit\".\n",
      "\n",
      "To get a list of available modules, keywords, symbols, or topics, type\n",
      "\"modules\", \"keywords\", \"symbols\", or \"topics\".  Each module also comes\n",
      "with a one-line summary of what it does; to list the modules whose name\n",
      "or summary contain a given string such as \"spam\", type \"modules spam\".\n",
      "\n",
      "help> python\n",
      "No Python documentation found for 'python'.\n",
      "Use help() to get the interactive help utility.\n",
      "Use help(str) for help on the str class.\n",
      "\n"
     ]
    }
   ],
   "source": [
    "help()"
   ]
  },
  {
   "cell_type": "code",
   "execution_count": null,
   "metadata": {},
   "outputs": [],
   "source": []
  },
  {
   "cell_type": "code",
   "execution_count": null,
   "metadata": {},
   "outputs": [],
   "source": []
  },
  {
   "cell_type": "code",
   "execution_count": null,
   "metadata": {},
   "outputs": [],
   "source": []
  }
 ],
 "metadata": {
  "kernelspec": {
   "display_name": "Python 3",
   "language": "python",
   "name": "python3"
  },
  "language_info": {
   "codemirror_mode": {
    "name": "ipython",
    "version": 3
   },
   "file_extension": ".py",
   "mimetype": "text/x-python",
   "name": "python",
   "nbconvert_exporter": "python",
   "pygments_lexer": "ipython3",
   "version": "3.6.10"
  }
 },
 "nbformat": 4,
 "nbformat_minor": 2
}
